{
 "cells": [
  {
   "cell_type": "markdown",
   "id": "45551c7a",
   "metadata": {},
   "source": [
    "# Part A\n",
    "\n",
    "**DOMAIN:**  Digital content and entertainment industry\n",
    "\n",
    "**CONTEXT:**  The objective of this project is to build a text classification model that analyses the customer's sentiments\n",
    "based on their reviews in the IMDB database. The model uses a complex deep learning model to build an embedding layer\n",
    "followed by a classification algorithm to analyse the sentiment of the customers.\n",
    "\n",
    "**DATA DESCRIPTION:**  The Dataset of 50,000 movie reviews from IMDB, labelled by sentiment (positive/negative). Reviews\n",
    "have been preprocessed, and each review is encoded as a sequence of word indexes (integers). For convenience, the\n",
    "words are indexed by their frequency in the dataset, meaning the for that has index 1 is the most frequent word. Use the\n",
    "first 20 words from each review to speed up training, using a max vocabulary size of 10,000. As a convention, \"0\" does\n",
    "not stand for a specific word, but instead is used to encode any unknown word.\n",
    "\n",
    "**PROJECT OBJECTIVE:** To Build a sequential NLP classifier which can use input text parameters to determine the customer\n",
    "sentiments.\n",
    " \n",
    "\n",
    "# Steps and tasks:\n",
    "\n",
    "# Part A - Q1 - Import and analyse the data set.\n"
   ]
  },
  {
   "cell_type": "code",
   "execution_count": 33,
   "id": "dd0cfec2",
   "metadata": {},
   "outputs": [
    {
     "name": "stdout",
     "output_type": "stream",
     "text": [
      "2.14.0\n"
     ]
    }
   ],
   "source": [
    "# Import Basic Libraries\n",
    "import numpy as np\n",
    "import pandas as pd\n",
    "import matplotlib.pyplot as plt\n",
    "%matplotlib inline\n",
    "import seaborn as sns\n",
    "\n",
    "import os\n",
    "import tensorflow as tf\n",
    "print(tf.__version__) \n",
    "import cv2\n",
    "from glob import glob"
   ]
  },
  {
   "cell_type": "markdown",
   "id": "40a58e7d",
   "metadata": {},
   "source": [
    "# Part A - Q1 - Import and analyse the data set."
   ]
  },
  {
   "cell_type": "code",
   "execution_count": 34,
   "id": "3744cbfd",
   "metadata": {},
   "outputs": [
    {
     "name": "stdout",
     "output_type": "stream",
     "text": [
      "Number of training samples: 25000\n",
      "Number of testing samples: 25000\n",
      "Sample review:\n",
      "[1, 14, 22, 16, 43, 530, 973, 1622, 1385, 65, 458, 4468, 66, 3941, 4, 173, 36, 256, 5, 25, 100, 43, 838, 112, 50, 670, 2, 9, 35, 480, 284, 5, 150, 4, 172, 112, 167, 2, 336, 385, 39, 4, 172, 4536, 1111, 17, 546, 38, 13, 447, 4, 192, 50, 16, 6, 147, 2025, 19, 14, 22, 4, 1920, 4613, 469, 4, 22, 71, 87, 12, 16, 43, 530, 38, 76, 15, 13, 1247, 4, 22, 17, 515, 17, 12, 16, 626, 18, 2, 5, 62, 386, 12, 8, 316, 8, 106, 5, 4, 2223, 5244, 16, 480, 66, 3785, 33, 4, 130, 12, 16, 38, 619, 5, 25, 124, 51, 36, 135, 48, 25, 1415, 33, 6, 22, 12, 215, 28, 77, 52, 5, 14, 407, 16, 82, 2, 8, 4, 107, 117, 5952, 15, 256, 4, 2, 7, 3766, 5, 723, 36, 71, 43, 530, 476, 26, 400, 317, 46, 7, 4, 2, 1029, 13, 104, 88, 4, 381, 15, 297, 98, 32, 2071, 56, 26, 141, 6, 194, 7486, 18, 4, 226, 22, 21, 134, 476, 26, 480, 5, 144, 30, 5535, 18, 51, 36, 28, 224, 92, 25, 104, 4, 226, 65, 16, 38, 1334, 88, 12, 16, 283, 5, 16, 4472, 113, 103, 32, 15, 16, 5345, 19, 178, 32]\n",
      "Processed training data:\n",
      "[  65   16   38 1334   88   12   16  283    5   16 4472  113  103   32\n",
      "   15   16 5345   19  178   32]\n",
      "Sample label:\n",
      "1\n"
     ]
    }
   ],
   "source": [
    "# Step 1: Import necessary libraries\n",
    "from tensorflow.keras.datasets import imdb\n",
    "from tensorflow.keras.preprocessing import sequence\n",
    "\n",
    "# Step 2: Load the IMDB dataset\n",
    "vocab_size = 10000\n",
    "(train_data, train_labels), (test_data, test_labels) = imdb.load_data(num_words=vocab_size)\n",
    "\n",
    "# Step 3: Analyze the dataset\n",
    "print(\"Number of training samples:\", len(train_data))\n",
    "print(\"Number of testing samples:\", len(test_data))\n",
    "\n",
    "# Step 4: Display sample data\n",
    "print(\"Sample review:\")\n",
    "print(train_data[0])  # Displaying the first review\n",
    "\n",
    "# Step 5: Preprocess the data by padding sequences to a fixed length\n",
    "max_len = 20\n",
    "train_data = sequence.pad_sequences(train_data, maxlen=max_len)\n",
    "test_data = sequence.pad_sequences(test_data, maxlen=max_len)\n",
    "\n",
    "# Step 6: Display processed data\n",
    "print(\"Processed training data:\")\n",
    "print(train_data[0])  # Displaying the first processed review\n",
    "\n",
    "# Step 7: Display labels\n",
    "print(\"Sample label:\")\n",
    "print(train_labels[0])  # Displaying the label of the first review (0 for negative, 1 for positive)\n"
   ]
  },
  {
   "cell_type": "markdown",
   "id": "7e8914ff",
   "metadata": {},
   "source": [
    "# Part A - Q2 - Perform relevant sequence adding on the data."
   ]
  },
  {
   "cell_type": "code",
   "execution_count": 35,
   "id": "30c50d6d",
   "metadata": {},
   "outputs": [
    {
     "name": "stdout",
     "output_type": "stream",
     "text": [
      "Number of training samples: 25000\n",
      "Number of testing samples: 25000\n",
      "Shape of padded training data: (25000, 20)\n",
      "Shape of padded testing data: (25000, 20)\n",
      "Sample Review:\n",
      "[  65   16   38 1334   88   12   16  283    5   16 4472  113  103   32\n",
      "   15   16 5345   19  178   32]\n",
      "Sentiment Label:\n",
      "1\n"
     ]
    }
   ],
   "source": [
    "# Step 5: Preprocess the data by padding sequences to a fixed length\n",
    "max_len = 20\n",
    "train_data = sequence.pad_sequences(train_data, maxlen=max_len)\n",
    "test_data = sequence.pad_sequences(test_data, maxlen=max_len)\n",
    "\n",
    "# Display some information about the data\n",
    "print(\"Number of training samples:\", len(train_data))\n",
    "print(\"Number of testing samples:\", len(test_data))    \n",
    "print(\"Shape of padded training data:\", train_data.shape)\n",
    "print(\"Shape of padded testing data:\", test_data.shape)\n",
    "\n",
    "# Display a sample review and its sentiment label\n",
    "print(\"Sample Review:\")\n",
    "print(train_data[0])  \n",
    "print(\"Sentiment Label:\")\n",
    "print(train_labels[0])  "
   ]
  },
  {
   "cell_type": "markdown",
   "id": "81be4e97",
   "metadata": {},
   "source": [
    "# Part A - Q3 - Perform following data analysis: \n",
    "    i) Print shape of features and labels \n",
    "    ii) Print value of any one feature and it's label"
   ]
  },
  {
   "cell_type": "code",
   "execution_count": 36,
   "id": "376f209e",
   "metadata": {},
   "outputs": [
    {
     "name": "stdout",
     "output_type": "stream",
     "text": [
      "Shape of training data: (25000, 20)\n",
      "Shape of testing data: (25000, 20)\n",
      "Shape of training labels: (25000,)\n",
      "Shape of testing labels: (25000,)\n",
      "\n",
      "Sample Feature (padded sequence):\n",
      "[  65   16   38 1334   88   12   16  283    5   16 4472  113  103   32\n",
      "   15   16 5345   19  178   32]\n",
      "\n",
      "Corresponding Label:\n",
      "1\n"
     ]
    }
   ],
   "source": [
    "# Step 8: Perform data analysis\n",
    "# i) Print shape of features and labels\n",
    "print(\"Shape of training data:\", train_data.shape)\n",
    "print(\"Shape of testing data:\", test_data.shape)\n",
    "print(\"Shape of training labels:\", train_labels.shape)\n",
    "print(\"Shape of testing labels:\", test_labels.shape)\n",
    "\n",
    "# ii) Print value of any one feature and its label\n",
    "sample_index = 0\n",
    "print(\"\\nSample Feature (padded sequence):\")\n",
    "print(train_data[sample_index])\n",
    "\n",
    "print(\"\\nCorresponding Label:\")\n",
    "print(train_labels[sample_index])\n"
   ]
  },
  {
   "cell_type": "markdown",
   "id": "7992ba17",
   "metadata": {},
   "source": [
    "# Part A - Q4 - Decode the feature value to get original sentence"
   ]
  },
  {
   "cell_type": "code",
   "execution_count": 37,
   "id": "07db34cc",
   "metadata": {},
   "outputs": [
    {
     "name": "stdout",
     "output_type": "stream",
     "text": [
      "\n",
      "Decoded Sentence:\n",
      "their with her nobody most that with wasn't to with armed acting watch an for with heartfelt film want an\n"
     ]
    }
   ],
   "source": [
    "# Step 9: Decode the feature value to get the original sentence\n",
    "word_index = imdb.get_word_index()\n",
    "\n",
    "# Reverse the word index mapping\n",
    "reverse_word_index = dict([(value, key) for (key, value) in word_index.items()])\n",
    "\n",
    "# Function to decode a sequence into the original sentence\n",
    "def decode_sequence(sequence):\n",
    "    return ' '.join([reverse_word_index.get(i, '?') for i in sequence])\n",
    "\n",
    "# Decode the first training data sample\n",
    "decoded_sentence = decode_sequence(train_data[sample_index])\n",
    "\n",
    "# Print the decoded sentence\n",
    "print(\"\\nDecoded Sentence:\")\n",
    "print(decoded_sentence)\n"
   ]
  },
  {
   "cell_type": "markdown",
   "id": "1773823a",
   "metadata": {},
   "source": [
    "# Part A - Q5 - Design, train, tune and test a sequential model"
   ]
  },
  {
   "cell_type": "code",
   "execution_count": 38,
   "id": "c2d95474",
   "metadata": {},
   "outputs": [
    {
     "name": "stdout",
     "output_type": "stream",
     "text": [
      "\n",
      "Model Summary:\n",
      "Model: \"sequential_2\"\n",
      "_________________________________________________________________\n",
      " Layer (type)                Output Shape              Param #   \n",
      "=================================================================\n",
      " embedding_2 (Embedding)     (None, 20, 50)            500000    \n",
      "                                                                 \n",
      " lstm_2 (LSTM)               (None, 100)               60400     \n",
      "                                                                 \n",
      " dense_2 (Dense)             (None, 1)                 101       \n",
      "                                                                 \n",
      "=================================================================\n",
      "Total params: 560501 (2.14 MB)\n",
      "Trainable params: 560501 (2.14 MB)\n",
      "Non-trainable params: 0 (0.00 Byte)\n",
      "_________________________________________________________________\n",
      "None\n",
      "Epoch 1/5\n",
      "313/313 [==============================] - 19s 50ms/step - loss: 0.5445 - accuracy: 0.7121 - val_loss: 0.4910 - val_accuracy: 0.7524\n",
      "Epoch 2/5\n",
      "313/313 [==============================] - 14s 46ms/step - loss: 0.4037 - accuracy: 0.8152 - val_loss: 0.4969 - val_accuracy: 0.7476\n",
      "Epoch 3/5\n",
      "313/313 [==============================] - 14s 46ms/step - loss: 0.3336 - accuracy: 0.8533 - val_loss: 0.5576 - val_accuracy: 0.7408\n",
      "Epoch 4/5\n",
      "313/313 [==============================] - 14s 45ms/step - loss: 0.2692 - accuracy: 0.8863 - val_loss: 0.5753 - val_accuracy: 0.7406\n",
      "Epoch 5/5\n",
      "313/313 [==============================] - 14s 45ms/step - loss: 0.2090 - accuracy: 0.9158 - val_loss: 0.7469 - val_accuracy: 0.7324\n",
      "782/782 [==============================] - 7s 9ms/step - loss: 0.7408 - accuracy: 0.7332\n",
      "\n",
      "Test Accuracy: 0.7331600189208984\n"
     ]
    },
    {
     "data": {
      "image/png": "[encoded data removed]",
      "text/plain": [
       "<Figure size 640x480 with 1 Axes>"
      ]
     },
     "metadata": {},
     "output_type": "display_data"
    }
   ],
   "source": [
    "# Step 10: Design, train, tune, and test a sequential model\n",
    "from tensorflow.keras.models import Sequential\n",
    "from tensorflow.keras.layers import Embedding, LSTM, Dense\n",
    "\n",
    "# Define model architecture\n",
    "embedding_dim = 50\n",
    "model = Sequential()\n",
    "model.add(Embedding(input_dim=vocab_size, output_dim=embedding_dim, input_length=max_len))\n",
    "model.add(LSTM(units=100))\n",
    "model.add(Dense(units=1, activation='sigmoid'))\n",
    "\n",
    "# Compile the model\n",
    "model.compile(optimizer='adam', loss='binary_crossentropy', metrics=['accuracy'])\n",
    "\n",
    "# Display the model summary\n",
    "print(\"\\nModel Summary:\")\n",
    "print(model.summary())\n",
    "\n",
    "# Train the model\n",
    "batch_size = 64\n",
    "epochs = 5\n",
    "history = model.fit(train_data, train_labels, epochs=epochs, batch_size=batch_size, validation_split=0.2)\n",
    "\n",
    "# Evaluate the model on the test set\n",
    "test_loss, test_accuracy = model.evaluate(test_data, test_labels)\n",
    "print(\"\\nTest Accuracy:\", test_accuracy)\n",
    "\n",
    "# Plot training history\n",
    "import matplotlib.pyplot as plt\n",
    "\n",
    "plt.plot(history.history['accuracy'], label='Training Accuracy')\n",
    "plt.plot(history.history['val_accuracy'], label='Validation Accuracy')\n",
    "plt.title('Training and Validation Accuracy')\n",
    "plt.xlabel('Epoch')\n",
    "plt.ylabel('Accuracy')\n",
    "plt.legend()\n",
    "plt.show()\n"
   ]
  },
  {
   "cell_type": "markdown",
   "id": "bfa03acb",
   "metadata": {},
   "source": [
    "# Part A - Q6 - Use the designed model to print the prediction on any one sample."
   ]
  },
  {
   "cell_type": "code",
   "execution_count": 39,
   "id": "368e6ab0",
   "metadata": {},
   "outputs": [
    {
     "name": "stdout",
     "output_type": "stream",
     "text": [
      "1/1 [==============================] - 1s 694ms/step\n",
      "\n",
      "Original Sentence:\n",
      "have pretty try son and upon season some of cute scary wonderland either i i major later am some br\n",
      "\n",
      "Predicted Sentiment:\n",
      "Negative\n",
      "\n",
      "Actual Sentiment:\n",
      "Negative\n"
     ]
    }
   ],
   "source": [
    "# Step 11: Use the designed model to print the prediction on any one sample\n",
    "import numpy as np\n",
    "\n",
    "# Choose any one sample index from the test set\n",
    "sample_index_to_predict = 42\n",
    "\n",
    "# Get the corresponding sequence from the test data\n",
    "sequence_to_predict = test_data[sample_index_to_predict]\n",
    "\n",
    "# Make the prediction\n",
    "prediction = model.predict(np.array([sequence_to_predict]))\n",
    "\n",
    "# Print the original sentence\n",
    "original_sentence = decode_sequence(test_data[sample_index_to_predict])\n",
    "print(\"\\nOriginal Sentence:\")\n",
    "print(original_sentence)\n",
    "\n",
    "# Print the predicted sentiment (1 for positive, 0 for negative)\n",
    "predicted_sentiment = round(prediction[0][0])\n",
    "print(\"\\nPredicted Sentiment:\")\n",
    "print(\"Positive\" if predicted_sentiment == 1 else \"Negative\")\n",
    "\n",
    "# Print the actual sentiment label (1 for positive, 0 for negative)\n",
    "actual_sentiment = test_labels[sample_index_to_predict]\n",
    "print(\"\\nActual Sentiment:\")\n",
    "print(\"Positive\" if actual_sentiment == 1 else \"Negative\")\n"
   ]
  },
  {
   "cell_type": "code",
   "execution_count": 40,
   "id": "c46231a9",
   "metadata": {},
   "outputs": [
    {
     "name": "stdout",
     "output_type": "stream",
     "text": [
      "1/1 [==============================] - 0s 22ms/step\n",
      "\n",
      "Original Sentence:\n",
      "especially well might when was might to especially after could of on just as was then looking her fiction fiction\n",
      "\n",
      "Predicted Sentiment:\n",
      "Positive\n",
      "\n",
      "Actual Sentiment:\n",
      "Positive\n"
     ]
    }
   ],
   "source": [
    "# Step 11: Use the designed model to print the prediction on any one sample\n",
    "import numpy as np\n",
    "\n",
    "# Choose any one sample index from the test set\n",
    "sample_index_to_predict = 16\n",
    "\n",
    "# Get the corresponding sequence from the test data\n",
    "sequence_to_predict = test_data[sample_index_to_predict]\n",
    "\n",
    "# Make the prediction\n",
    "prediction = model.predict(np.array([sequence_to_predict]))\n",
    "\n",
    "# Print the original sentence\n",
    "original_sentence = decode_sequence(test_data[sample_index_to_predict])\n",
    "print(\"\\nOriginal Sentence:\")\n",
    "print(original_sentence)\n",
    "\n",
    "# Print the predicted sentiment (1 for positive, 0 for negative)\n",
    "predicted_sentiment = round(prediction[0][0])\n",
    "print(\"\\nPredicted Sentiment:\")\n",
    "print(\"Positive\" if predicted_sentiment == 1 else \"Negative\")\n",
    "\n",
    "# Print the actual sentiment label (1 for positive, 0 for negative)\n",
    "actual_sentiment = test_labels[sample_index_to_predict]\n",
    "print(\"\\nActual Sentiment:\")\n",
    "print(\"Positive\" if actual_sentiment == 1 else \"Negative\")\n"
   ]
  },
  {
   "cell_type": "markdown",
   "id": "3f891880",
   "metadata": {},
   "source": [
    "# DOMAIN: Social media analytics\n",
    "**• CONTEXT:** Past studies in Sarcasm Detection mostly make use of Twitter datasets collected using hashtag based supervision\n",
    "but such datasets are noisy in terms of labels and language. Furthermore, many tweets are replies to other tweets and\n",
    "detecting sarcasm in these requires the availability of contextual tweets.In this hands-on project, the goal is to build a model\n",
    "to detect whether a sentence is sarcastic or not, using Bidirectional LSTMs.\n",
    "\n",
    "**• DATA DESCRIPTION:**\n",
    "The dataset is collected from two news websites, theonion.com and huffingtonpost.com.\n",
    "This new dataset has the following advantages over the existing Twitter datasets:\n",
    "Since news headlines are written by professionals in a formal manner, there are no spelling mistakes and informal usage. This reduces\n",
    "the sparsity and also increases the chance of finding pre-trained embeddings.\n",
    "Furthermore, since the sole purpose of TheOnion is to publish sarcastic news, we get high-quality labels with much less noise as\n",
    "compared to Twitter datasets.\n",
    "Unlike tweets that reply to other tweets, the news headlines obtained are self-contained. This would help us in teasing apart the real\n",
    "sarcastic elements\n",
    "\n",
    "**Content:** Each record consists of three attributes:\n",
    "is_sarcastic: 1 if the record is sarcastic otherwise 0\n",
    "headline: the headline of the news article\n",
    "article_link: link to the original news article. Useful in collecting supplementary data\n",
    " Reference: https://github.com/rishabhmisra/News-Headlines-Dataset-For-Sarcasm-Detection\n",
    " \n",
    "**• PROJECT OBJECTIVE**: Build a sequential NLP classifier which can use input text parameters to determine the customer\n",
    "sentiments.\n"
   ]
  },
  {
   "cell_type": "markdown",
   "id": "3d2c76f2",
   "metadata": {},
   "source": [
    "# Part B - Q1 - Read and explore the data"
   ]
  },
  {
   "cell_type": "code",
   "execution_count": 41,
   "id": "a9794f8b",
   "metadata": {},
   "outputs": [
    {
     "name": "stdout",
     "output_type": "stream",
     "text": [
      "First few rows of the dataset:\n",
      "   is_sarcastic                                           headline  \\\n",
      "0             1  thirtysomething scientists unveil doomsday clo...   \n",
      "1             0  dem rep. totally nails why congress is falling...   \n",
      "2             0  eat your veggies: 9 deliciously different recipes   \n",
      "3             1  inclement weather prevents liar from getting t...   \n",
      "4             1  mother comes pretty close to using word 'strea...   \n",
      "\n",
      "                                        article_link  \n",
      "0  https://www.theonion.com/thirtysomething-scien...  \n",
      "1  https://www.huffingtonpost.com/entry/donna-edw...  \n",
      "2  https://www.huffingtonpost.com/entry/eat-your-...  \n",
      "3  https://local.theonion.com/inclement-weather-p...  \n",
      "4  https://www.theonion.com/mother-comes-pretty-c...  \n",
      "\n",
      "Dataset information:\n",
      "<class 'pandas.core.frame.DataFrame'>\n",
      "RangeIndex: 28619 entries, 0 to 28618\n",
      "Data columns (total 3 columns):\n",
      " #   Column        Non-Null Count  Dtype \n",
      "---  ------        --------------  ----- \n",
      " 0   is_sarcastic  28619 non-null  int64 \n",
      " 1   headline      28619 non-null  object\n",
      " 2   article_link  28619 non-null  object\n",
      "dtypes: int64(1), object(2)\n",
      "memory usage: 670.9+ KB\n",
      "None\n",
      "\n",
      "Missing values in the dataset:\n",
      "is_sarcastic    0\n",
      "headline        0\n",
      "article_link    0\n",
      "dtype: int64\n"
     ]
    }
   ],
   "source": [
    "# Step 1: Import necessary libraries\n",
    "import pandas as pd\n",
    "\n",
    "# Step 2: Load the dataset\n",
    "data_url = \"https://raw.githubusercontent.com/rishabhmisra/News-Headlines-Dataset-For-Sarcasm-Detection/master/Sarcasm_Headlines_Dataset.json\"\n",
    "df = pd.read_json(data_url, lines=True)\n",
    "\n",
    "# Step 3: Explore the dataset\n",
    "# Display the first few rows of the dataframe\n",
    "print(\"First few rows of the dataset:\")\n",
    "print(df.head())\n",
    "\n",
    "# Display basic information about the dataset\n",
    "print(\"\\nDataset information:\")\n",
    "print(df.info())\n",
    "\n",
    "# Check for missing values\n",
    "print(\"\\nMissing values in the dataset:\")\n",
    "print(df.isnull().sum())\n"
   ]
  },
  {
   "cell_type": "code",
   "execution_count": 42,
   "id": "781dd0a7",
   "metadata": {},
   "outputs": [
    {
     "name": "stdout",
     "output_type": "stream",
     "text": [
      "Training set shape - X: (22895,) y: (22895,)\n",
      "Testing set shape - X: (5724,) y: (5724,)\n"
     ]
    }
   ],
   "source": [
    "from sklearn.model_selection import train_test_split\n",
    "\n",
    "# Define features (X) and target variable (y)\n",
    "X = df['headline']\n",
    "y = df['is_sarcastic']\n",
    "\n",
    "# Split the data into train and test sets\n",
    "X_train, X_test, y_train, y_test = train_test_split(X, y, test_size=0.2, random_state=42)\n",
    "\n",
    "# Print the shapes of the resulting sets\n",
    "print(\"Training set shape - X:\", X_train.shape, \"y:\", y_train.shape)\n",
    "print(\"Testing set shape - X:\", X_test.shape, \"y:\", y_test.shape)\n"
   ]
  },
  {
   "cell_type": "markdown",
   "id": "42cd1818",
   "metadata": {},
   "source": [
    "# Part B - Q2 - Retain relevant columns"
   ]
  },
  {
   "cell_type": "code",
   "execution_count": 43,
   "id": "c9279a31",
   "metadata": {},
   "outputs": [
    {
     "name": "stdout",
     "output_type": "stream",
     "text": [
      "   is_sarcastic                                           headline\n",
      "0             1  thirtysomething scientists unveil doomsday clo...\n",
      "1             0  dem rep. totally nails why congress is falling...\n",
      "2             0  eat your veggies: 9 deliciously different recipes\n",
      "3             1  inclement weather prevents liar from getting t...\n",
      "4             1  mother comes pretty close to using word 'strea...\n"
     ]
    }
   ],
   "source": [
    "# Retain relevant columns\n",
    "df = df[['is_sarcastic', 'headline']]\n",
    "\n",
    "# Display the updated DataFrame\n",
    "print(df.head())\n"
   ]
  },
  {
   "cell_type": "markdown",
   "id": "d9e3c564",
   "metadata": {},
   "source": [
    "# Part B - Q3 - Get length of each sentence"
   ]
  },
  {
   "cell_type": "code",
   "execution_count": 44,
   "id": "7bb86866",
   "metadata": {},
   "outputs": [
    {
     "name": "stdout",
     "output_type": "stream",
     "text": [
      "                                            headline  headline_length\n",
      "0  thirtysomething scientists unveil doomsday clo...               61\n",
      "1  dem rep. totally nails why congress is falling...               79\n",
      "2  eat your veggies: 9 deliciously different recipes               49\n",
      "3  inclement weather prevents liar from getting t...               52\n",
      "4  mother comes pretty close to using word 'strea...               61\n"
     ]
    }
   ],
   "source": [
    "# Step 5: Get the length of each sentence\n",
    "# Get the length of each sentence and create a new column 'headline_length'\n",
    "df['headline_length'] = df['headline'].apply(len)\n",
    "\n",
    "# Display the updated DataFrame with the 'headline_length' column\n",
    "print(df[['headline', 'headline_length']].head())\n"
   ]
  },
  {
   "cell_type": "markdown",
   "id": "ecf107cf",
   "metadata": {},
   "source": [
    "# Part B - Q4 - Define parameters"
   ]
  },
  {
   "cell_type": "code",
   "execution_count": 45,
   "id": "f015cba6",
   "metadata": {},
   "outputs": [],
   "source": [
    "# Step 6: Define Parameters\n",
    "max_features = 10000  # Number of words to take from tokenizer\n",
    "maxlen = 30          # Maximum length of each sentence\n",
    "embedding_size = 50  # Size of the embedding vector\n"
   ]
  },
  {
   "cell_type": "markdown",
   "id": "2c29bb5c",
   "metadata": {},
   "source": [
    "# Part B - Q5 - Get indices for words"
   ]
  },
  {
   "cell_type": "code",
   "execution_count": 46,
   "id": "84d17178",
   "metadata": {},
   "outputs": [
    {
     "name": "stdout",
     "output_type": "stream",
     "text": [
      "Original Sentence: how trump really feels about queer people, explained in one sentence\n",
      "Word Indices: [27, 13, 109, 638, 17, 781, 67, 4774, 5, 43, 1939]\n",
      "Padded Sequence: [  27   13  109  638   17  781   67 4774    5   43 1939    0    0    0\n",
      "    0    0    0    0    0    0    0    0    0    0    0    0    0    0\n",
      "    0    0]\n"
     ]
    }
   ],
   "source": [
    "# Step 7: Tokenize the sentences to get word indices\n",
    "from tensorflow.keras.preprocessing.text import Tokenizer\n",
    "from tensorflow.keras.preprocessing.sequence import pad_sequences\n",
    "\n",
    "# Tokenize the sentences\n",
    "tokenizer = Tokenizer(num_words=max_features, oov_token=\"<OOV>\")\n",
    "tokenizer.fit_on_texts(X_train)\n",
    "\n",
    "# Get the word indices for each sentence\n",
    "X_train_indices = tokenizer.texts_to_sequences(X_train)\n",
    "\n",
    "# Pad sequences to a fixed length\n",
    "X_train_padded = pad_sequences(X_train_indices, maxlen=maxlen, padding='post', truncating='post')\n",
    "\n",
    "# Display the first example and its indices\n",
    "print(\"Original Sentence:\", X_train.iloc[0])\n",
    "print(\"Word Indices:\", X_train_indices[0])\n",
    "print(\"Padded Sequence:\", X_train_padded[0])\n"
   ]
  },
  {
   "cell_type": "markdown",
   "id": "3d9eb9ad",
   "metadata": {},
   "source": [
    "# Part B - Q6 - Create features and labels"
   ]
  },
  {
   "cell_type": "code",
   "execution_count": 47,
   "id": "58aec1e2",
   "metadata": {},
   "outputs": [
    {
     "name": "stdout",
     "output_type": "stream",
     "text": [
      "Features shape: (22895, 30)\n",
      "Labels shape: (22895,)\n"
     ]
    }
   ],
   "source": [
    "# Step 8: Create features (X) and labels (y)\n",
    "\n",
    "# Features (input data)\n",
    "X_train_features = X_train_padded\n",
    "\n",
    "# Labels\n",
    "y_train_labels = y_train.values\n",
    "\n",
    "# Display the shapes of features and labels\n",
    "print(\"Features shape:\", X_train_features.shape)\n",
    "print(\"Labels shape:\", y_train_labels.shape)\n",
    "\n"
   ]
  },
  {
   "cell_type": "code",
   "execution_count": 48,
   "id": "222c75ff",
   "metadata": {},
   "outputs": [
    {
     "name": "stdout",
     "output_type": "stream",
     "text": [
      "Features shape: (22895, 30)\n",
      "Labels shape: (22895,)\n",
      "Validation Features shape: (2290, 30)\n",
      "Validation Labels shape: (2290,)\n"
     ]
    }
   ],
   "source": [
    "# Features (input data)\n",
    "X_train_features = X_train_padded\n",
    "\n",
    "# Labels\n",
    "y_train_labels = y_train.values\n",
    "\n",
    "# Display the shapes of features and labels\n",
    "print(\"Features shape:\", X_train_features.shape)\n",
    "print(\"Labels shape:\", y_train_labels.shape)\n",
    "\n",
    "\n",
    "# Split the data into train and validation sets\n",
    "X_train, X_val, y_train, y_val = train_test_split(X_train, y_train, test_size=0.1, random_state=42)\n",
    "\n",
    "# Tokenize and pad sequences for validation data\n",
    "X_val_indices = tokenizer.texts_to_sequences(X_val)\n",
    "X_val_padded = pad_sequences(X_val_indices, maxlen=maxlen, padding='post', truncating='post')\n",
    "\n",
    "# Features (input data) for validation set\n",
    "X_val_features = X_val_padded\n",
    "\n",
    "# Labels for validation set\n",
    "y_val_labels = y_val.values\n",
    "\n",
    "# Display the shapes of features and labels for validation set\n",
    "print(\"Validation Features shape:\", X_val_features.shape)\n",
    "print(\"Validation Labels shape:\", y_val_labels.shape)"
   ]
  },
  {
   "cell_type": "markdown",
   "id": "19cefdbe",
   "metadata": {},
   "source": [
    "# Part B - Q7 - Get vocabulary size"
   ]
  },
  {
   "cell_type": "code",
   "execution_count": 49,
   "id": "cd12b8d3",
   "metadata": {},
   "outputs": [
    {
     "name": "stdout",
     "output_type": "stream",
     "text": [
      "Vocabulary Size: 27770\n"
     ]
    }
   ],
   "source": [
    "# Step 9: Get vocabulary size\n",
    "vocabulary_size = len(tokenizer.word_index)\n",
    "\n",
    "# Display the vocabulary size\n",
    "print(\"Vocabulary Size:\", vocabulary_size)\n"
   ]
  },
  {
   "cell_type": "markdown",
   "id": "dc3ded36",
   "metadata": {},
   "source": [
    "# Part B - Q8 - Create a weight matrix using GloVe embeddings"
   ]
  },
  {
   "cell_type": "code",
   "execution_count": 50,
   "id": "6708192b",
   "metadata": {},
   "outputs": [
    {
     "name": "stdout",
     "output_type": "stream",
     "text": [
      "\n",
      "Shape of the embedding matrix: (27771, 50)\n"
     ]
    }
   ],
   "source": [
    "# Step 10: Create a weight matrix using GloVe embeddings\n",
    "\n",
    "# Import necessary libraries\n",
    "import numpy as np\n",
    "\n",
    "# Update the embedding_path with the correct local path\n",
    "embedding_path = r\"C:\\Users\\Swarajya Electricals\\Downloads\\glove.6B.50d.txt\"\n",
    "\n",
    "# Load GloVe embeddings using the reference approach\n",
    "def load_glove_embedding(file_path):\n",
    "    embeddings_index = {}\n",
    "    with open(file_path, 'r', encoding='utf-8') as f:\n",
    "        for line in f:\n",
    "            values = line.split()\n",
    "            word = values[0]\n",
    "            coefs = np.asarray(values[1:], dtype='float32')\n",
    "            embeddings_index[word] = coefs\n",
    "    return embeddings_index\n",
    "\n",
    "# Load GloVe embeddings\n",
    "embeddings_index = load_glove_embedding(embedding_path)\n",
    "\n",
    "# Update vocabulary_size to match the size of your tokenizer's word index\n",
    "vocabulary_size = len(tokenizer.word_index) + 1\n",
    "\n",
    "# Create an embedding matrix\n",
    "embedding_matrix = np.zeros((vocabulary_size, embedding_dim))\n",
    "for word, index in tokenizer.word_index.items():\n",
    "    embedding_vector = embeddings_index.get(word)\n",
    "    if embedding_vector is not None:\n",
    "        embedding_matrix[index] = embedding_vector\n",
    "\n",
    "# Display the shape of the embedding matrix\n",
    "print(\"\\nShape of the embedding matrix:\", embedding_matrix.shape)\n"
   ]
  },
  {
   "cell_type": "markdown",
   "id": "2b57196b",
   "metadata": {},
   "source": [
    "# Part B - Q9 - Define and compile a LSTM model."
   ]
  },
  {
   "cell_type": "code",
   "execution_count": 53,
   "id": "43be9b86",
   "metadata": {},
   "outputs": [
    {
     "name": "stdout",
     "output_type": "stream",
     "text": [
      "Model: \"sequential_4\"\n",
      "_________________________________________________________________\n",
      " Layer (type)                Output Shape              Param #   \n",
      "=================================================================\n",
      " embedding_4 (Embedding)     (None, 30, 50)            1388550   \n",
      "                                                                 \n",
      " lstm_4 (LSTM)               (None, 100)               60400     \n",
      "                                                                 \n",
      " dense_4 (Dense)             (None, 1)                 101       \n",
      "                                                                 \n",
      "=================================================================\n",
      "Total params: 1449051 (5.53 MB)\n",
      "Trainable params: 60501 (236.33 KB)\n",
      "Non-trainable params: 1388550 (5.30 MB)\n",
      "_________________________________________________________________\n",
      "None\n"
     ]
    }
   ],
   "source": [
    "from tensorflow.keras.models import Sequential\n",
    "from tensorflow.keras.layers import Embedding, LSTM, Dense\n",
    "\n",
    "# Define LSTM model\n",
    "lstm_model = Sequential()\n",
    "\n",
    "# Add an embedding layer with the GloVe embedding matrix\n",
    "embedding_layer = Embedding(\n",
    "    input_dim=vocabulary_size,\n",
    "    output_dim=embedding_size,  # Ensure this matches the size of GloVe embeddings\n",
    "    weights=[embedding_matrix],\n",
    "    input_length=maxlen,  # Match this with the maxlen used in pad_sequences\n",
    "    trainable=False\n",
    ")\n",
    "lstm_model.add(embedding_layer)\n",
    "\n",
    "# Add an LSTM layer\n",
    "lstm_model.add(LSTM(100))  # Adjust the number of units if needed\n",
    "\n",
    "# Add a Dense layer for binary classification (sarcasm detection)\n",
    "lstm_model.add(Dense(1, activation='sigmoid'))\n",
    "\n",
    "# Compile the model\n",
    "lstm_model.compile(optimizer='adam', loss='binary_crossentropy', metrics=['accuracy'])\n",
    "\n",
    "# Display the model summary\n",
    "print(lstm_model.summary())\n"
   ]
  },
  {
   "cell_type": "markdown",
   "id": "b05dffb4",
   "metadata": {},
   "source": [
    "# Part B - Q10 - Fit the model and check the validation accuracy"
   ]
  },
  {
   "cell_type": "code",
   "execution_count": 54,
   "id": "60995c14",
   "metadata": {},
   "outputs": [
    {
     "name": "stdout",
     "output_type": "stream",
     "text": [
      "Original shapes - X_train: (20605,) y_train_labels: (20605,)\n",
      "Shapes after tokenization and padding - X_train_padded: (20605, 30) y_train_labels: (20605,)\n",
      "X_train_features shape: (20605, 30)\n",
      "y_train_labels shape: (20605,)\n",
      "Epoch 1/5\n",
      "322/322 [==============================] - 25s 65ms/step - loss: 0.6640 - accuracy: 0.5853 - val_loss: 0.6460 - val_accuracy: 0.6166\n",
      "Epoch 2/5\n",
      "322/322 [==============================] - 15s 46ms/step - loss: 0.5755 - accuracy: 0.6843 - val_loss: 0.5949 - val_accuracy: 0.6803\n",
      "Epoch 3/5\n",
      "322/322 [==============================] - 15s 46ms/step - loss: 0.5239 - accuracy: 0.7285 - val_loss: 0.5675 - val_accuracy: 0.7013\n",
      "Epoch 4/5\n",
      "322/322 [==============================] - 15s 45ms/step - loss: 0.4834 - accuracy: 0.7603 - val_loss: 0.5793 - val_accuracy: 0.6891\n",
      "Epoch 5/5\n",
      "322/322 [==============================] - 15s 46ms/step - loss: 0.4551 - accuracy: 0.7789 - val_loss: 0.6153 - val_accuracy: 0.6948\n",
      "72/72 [==============================] - 1s 12ms/step - loss: 0.6153 - accuracy: 0.6948\n",
      "\n",
      "Validation Accuracy: 0.6947598457336426\n"
     ]
    }
   ],
   "source": [
    "# Convert labels to numpy array\n",
    "y_train_labels = np.array(y_train)\n",
    "\n",
    "# Check the shapes of your data\n",
    "print(\"Original shapes - X_train:\", X_train.shape, \"y_train_labels:\", y_train_labels.shape)\n",
    "\n",
    "# Tokenize the sentences\n",
    "tokenizer = Tokenizer(num_words=max_features, oov_token=\"<OOV>\")\n",
    "tokenizer.fit_on_texts(X_train)\n",
    "\n",
    "# The word indices for each sentence\n",
    "X_train_indices = tokenizer.texts_to_sequences(X_train)\n",
    "\n",
    "# Pad sequences to a fixed length\n",
    "X_train_padded = pad_sequences(X_train_indices, maxlen=maxlen, padding='post', truncating='post')\n",
    "\n",
    "# Display the shapes after tokenization and padding\n",
    "print(\"Shapes after tokenization and padding - X_train_padded:\", X_train_padded.shape, \"y_train_labels:\", y_train_labels.shape)\n",
    "\n",
    "# Convert labels to numpy array\n",
    "y_train_labels = np.array(y_train)\n",
    "\n",
    "# Check the shapes of your data\n",
    "print(\"X_train_features shape:\", X_train_padded.shape)\n",
    "print(\"y_train_labels shape:\", y_train_labels.shape)\n",
    "\n",
    "# Check if the number of samples match\n",
    "if X_train_padded.shape[0] != y_train_labels.shape[0]:\n",
    "    raise ValueError(\"Number of samples in X_train_padded and y_train_labels do not match.\")\n",
    "\n",
    "# Fit the model\n",
    "history = lstm_model.fit(\n",
    "    X_train_padded, y_train_labels,\n",
    "    epochs=epochs,\n",
    "    batch_size=batch_size,\n",
    "    validation_data=(X_val_padded, y_val_labels)\n",
    ")\n",
    "\n",
    "# Evaluate the model on the validation set\n",
    "val_loss, val_accuracy = lstm_model.evaluate(X_val_padded, y_val_labels)\n",
    "\n",
    "# Display validation accuracy\n",
    "print(\"\\nValidation Accuracy:\", val_accuracy)\n"
   ]
  },
  {
   "cell_type": "markdown",
   "id": "37ddcc14",
   "metadata": {},
   "source": [
    "# THE END"
   ]
  }
 ],
 "metadata": {
  "kernelspec": {
   "display_name": "Python 3 (ipykernel)",
   "language": "python",
   "name": "python3"
  },
  "language_info": {
   "codemirror_mode": {
    "name": "ipython",
    "version": 3
   },
   "file_extension": ".py",
   "mimetype": "text/x-python",
   "name": "python",
   "nbconvert_exporter": "python",
   "pygments_lexer": "ipython3",
   "version": "3.11.5"
  }
 },
 "nbformat": 4,
 "nbformat_minor": 5
}
